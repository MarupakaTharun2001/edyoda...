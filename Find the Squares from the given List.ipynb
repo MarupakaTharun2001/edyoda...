{
 "cells": [
  {
   "cell_type": "markdown",
   "id": "574c4fc8",
   "metadata": {},
   "source": [
    "Write a Python program to square the elements of a list using map() function.\n",
    "\n",
    "\n",
    "\n",
    "Sample List: [4, 5, 2, 9]\n",
    "\n",
    "Square the elements of the list:\n",
    "\n",
    "[16, 25, 4, 81]\n",
    "\n",
    "\n",
    "\n"
   ]
  },
  {
   "cell_type": "code",
   "execution_count": 1,
   "id": "316a2452",
   "metadata": {},
   "outputs": [
    {
     "name": "stdout",
     "output_type": "stream",
     "text": [
      "Sample list : [4, 5, 2, 9]\n",
      "Square the elements of the list: \n",
      " [16, 25, 4, 81]\n"
     ]
    }
   ],
   "source": [
    "l=[4,5,2,9]\n",
    "print(\"Sample list :\",l)\n",
    "sqr=list(map(lambda x:(x)**2,l))\n",
    "print(\"Square the elements of the list: \\n\",sqr)"
   ]
  },
  {
   "cell_type": "code",
   "execution_count": null,
   "id": "066066f4",
   "metadata": {},
   "outputs": [],
   "source": []
  }
 ],
 "metadata": {
  "kernelspec": {
   "display_name": "Python 3 (ipykernel)",
   "language": "python",
   "name": "python3"
  },
  "language_info": {
   "codemirror_mode": {
    "name": "ipython",
    "version": 3
   },
   "file_extension": ".py",
   "mimetype": "text/x-python",
   "name": "python",
   "nbconvert_exporter": "python",
   "pygments_lexer": "ipython3",
   "version": "3.9.7"
  }
 },
 "nbformat": 4,
 "nbformat_minor": 5
}
